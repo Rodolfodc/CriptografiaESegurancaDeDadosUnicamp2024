{
 "cells": [
  {
   "cell_type": "markdown",
   "metadata": {},
   "source": [
    "### Exercicio 3 - lista 4"
   ]
  },
  {
   "cell_type": "markdown",
   "metadata": {},
   "source": [
    "Determinacao da quantidade de bits em n a partir do RA"
   ]
  },
  {
   "cell_type": "code",
   "execution_count": 296,
   "metadata": {},
   "outputs": [
    {
     "name": "stdout",
     "output_type": "stream",
     "text": [
      "156\n"
     ]
    }
   ],
   "source": [
    "# determine o bit length baseado no RA\n",
    "my_ra = 228956 \n",
    "bit_len = (my_ra % 100) + 100\n",
    "print(bit_len)"
   ]
  },
  {
   "cell_type": "markdown",
   "metadata": {},
   "source": [
    "### Definindo as funcoes auxiliares para o RSA e de geracao de chaves"
   ]
  },
  {
   "cell_type": "code",
   "execution_count": 297,
   "metadata": {},
   "outputs": [],
   "source": [
    "def bin_to_dec(bin_vec = []):\n",
    "    max = len(bin_vec)\n",
    "    decimal = 0\n",
    "    for i in range(0, max):\n",
    "        decimal += bin_vec[i] * (2**i)\n",
    "    return decimal"
   ]
  },
  {
   "cell_type": "code",
   "execution_count": 298,
   "metadata": {},
   "outputs": [],
   "source": [
    "def get_random_prime(min, max):\n",
    "    num = 0\n",
    "    while not is_prime(num):\n",
    "        num = ZZ.random_element(min, max)\n",
    "    return num"
   ]
  },
  {
   "cell_type": "code",
   "execution_count": 299,
   "metadata": {},
   "outputs": [],
   "source": [
    "def totient(p, q):\n",
    "    return (p-1) * (q-1)"
   ]
  },
  {
   "cell_type": "code",
   "execution_count": 300,
   "metadata": {},
   "outputs": [],
   "source": [
    "def find_encription_key(totient_phi):\n",
    "    e = ZZ.random_element(totient_phi)\n",
    "    while gcd(totient_phi, e) != 1:\n",
    "        e = ZZ.random_element(1, totient_phi)\n",
    "    return e"
   ]
  },
  {
   "cell_type": "code",
   "execution_count": 301,
   "metadata": {},
   "outputs": [],
   "source": [
    "def find_decription_key(e, totient_phi):\n",
    "    return e.inverse_mod(totient_phi)"
   ]
  },
  {
   "cell_type": "code",
   "execution_count": 302,
   "metadata": {},
   "outputs": [],
   "source": [
    "def find_key_pairs(totient_phi):\n",
    "    e = d = -1\n",
    "    while d < 0:\n",
    "        e = find_encription_key(totient_phi)\n",
    "        d = find_decription_key(e, totient_phi)\n",
    "    return [e,d]"
   ]
  },
  {
   "cell_type": "code",
   "execution_count": 303,
   "metadata": {},
   "outputs": [
    {
     "name": "stdout",
     "output_type": "stream",
     "text": [
      "8267781152110277372591943534226164848743308451\n",
      "1158261753593424820906387915389282691016565115\n"
     ]
    }
   ],
   "source": [
    "e, d = find_key_pairs(euler_phi)\n",
    "print(e)\n",
    "print(d)"
   ]
  },
  {
   "cell_type": "code",
   "execution_count": 360,
   "metadata": {},
   "outputs": [],
   "source": [
    "def generate_rsa_key(prime_bit_length):\n",
    "    \n",
    "    p = get_random_prime(2^(prime_bit_length -1) +10, 2^prime_bit_length -1) # the +10 is to improve the probability of n be exactly 156 bits large\n",
    "    q = get_random_prime(2^(prime_bit_length -1) +10, 2^prime_bit_length -1)\n",
    "    \n",
    "    while(q == p):\n",
    "        q = get_random_prime(2**(prime_bit_length -1) +10, 2**78 -1)\n",
    "    \n",
    "    n = p*q\n",
    "    phi = totient(p,q)\n",
    "    e, d = find_key_pairs(phi)\n",
    "    \n",
    "    assert(mod(e*d, phi) == 1)\n",
    "    assert(e < n)\n",
    "    assert(d < n)\n",
    "    \n",
    "    return {\n",
    "        \"p\"   : p,\n",
    "        \"q\"   : q,\n",
    "        \"n\"   : n,\n",
    "        \"phi\" : phi,\n",
    "        \"e\"   : e,\n",
    "        \"d\"   : d\n",
    "    }"
   ]
  },
  {
   "cell_type": "code",
   "execution_count": 305,
   "metadata": {},
   "outputs": [],
   "source": [
    "def rsa_encrypt_decrypt(message, key, n):\n",
    "    return power_mod(message, key, n)"
   ]
  },
  {
   "cell_type": "markdown",
   "metadata": {},
   "source": [
    "### i) Demonstrando o sigilo da mensagem"
   ]
  },
  {
   "cell_type": "code",
   "execution_count": 306,
   "metadata": {},
   "outputs": [],
   "source": [
    "ana  = generate_rsa_key(bit_len // 2)\n",
    "beto = generate_rsa_key(bit_len // 2)"
   ]
  },
  {
   "cell_type": "code",
   "execution_count": 307,
   "metadata": {},
   "outputs": [
    {
     "data": {
      "text/plain": [
       "{'d': 30979444125301915631482090155800735912849934187,\n",
       " 'e': 52663478733789447378168807058560777600423914659,\n",
       " 'n': 72939402863335886860162409435487842329433753831,\n",
       " 'p': 268796859830643408786989,\n",
       " 'phi': 72939402863335886860161869283512816919002101464,\n",
       " 'q': 271355115194767022865379}"
      ]
     },
     "execution_count": 307,
     "metadata": {},
     "output_type": "execute_result"
    }
   ],
   "source": [
    "ana"
   ]
  },
  {
   "cell_type": "code",
   "execution_count": 308,
   "metadata": {},
   "outputs": [
    {
     "data": {
      "text/plain": [
       "{'d': 33262565787506711230984166887553415872841259933,\n",
       " 'e': 41808828065721814671432428783749834914951982021,\n",
       " 'n': 46329590668309653860104949918845661438150639363,\n",
       " 'p': 177671234916983718403399,\n",
       " 'phi': 46329590668309653860104511487388697497884189528,\n",
       " 'q': 260760222046956548046437}"
      ]
     },
     "execution_count": 308,
     "metadata": {},
     "output_type": "execute_result"
    }
   ],
   "source": [
    "beto"
   ]
  },
  {
   "cell_type": "code",
   "execution_count": 309,
   "metadata": {},
   "outputs": [
    {
     "name": "stdout",
     "output_type": "stream",
     "text": [
      "156\n",
      "156\n"
     ]
    }
   ],
   "source": [
    "print(int(ana['n']).bit_length())\n",
    "print(int(beto['n']).bit_length())"
   ]
  },
  {
   "cell_type": "code",
   "execution_count": 319,
   "metadata": {},
   "outputs": [
    {
     "name": "stdout",
     "output_type": "stream",
     "text": [
      "False\n",
      "Mensagem: 228956\n",
      "Texto encriptado: 24894157193031953816368855848521229276562118237\n",
      "Mensagem apos decriptada: 228956\n"
     ]
    }
   ],
   "source": [
    "ana_p = 228956\n",
    "ana_c = rsa_encrypt_decrypt(ana_p, ana['e'], ana['n'])\n",
    "print(ana_c == ana_p)\n",
    "\n",
    "ana_p2 = rsa_encrypt_decrypt(ana_c, ana['d'], ana['n'])\n",
    "\n",
    "print(\"Mensagem: \" + str(ana_p))\n",
    "print(\"Texto encriptado: \" + str(ana_c))\n",
    "print(\"Mensagem apos decriptada: \" + str(ana_p2))"
   ]
  },
  {
   "cell_type": "markdown",
   "metadata": {},
   "source": [
    "### ii) Agora vamos demonstrar como Beto pode aferir a autenticidade de uma mensagem enviada por Ana"
   ]
  },
  {
   "cell_type": "markdown",
   "metadata": {},
   "source": [
    "Beto envia para Ana uma mensagem de desafio encriptado com a chave publica de Ana, o passo abaixo considera que Ana ja recebeu o desafio e pretende voltar a mensagem para beto encriptado com sua propria chave privada."
   ]
  },
  {
   "cell_type": "code",
   "execution_count": 311,
   "metadata": {},
   "outputs": [],
   "source": [
    "desafio_ana = 2 # desafio que Beto enviou a Ana"
   ]
  },
  {
   "cell_type": "markdown",
   "metadata": {},
   "source": [
    "Para aferir a Autenticidade, Ana deve encriptar a mensagem com sua chave privada, e com a chave publica de Beto"
   ]
  },
  {
   "cell_type": "code",
   "execution_count": 320,
   "metadata": {},
   "outputs": [
    {
     "data": {
      "text/plain": [
       "44828843197980668851445548372250029310416609519"
      ]
     },
     "execution_count": 320,
     "metadata": {},
     "output_type": "execute_result"
    }
   ],
   "source": [
    "c_ana = rsa_encrypt_decrypt(desafio_ana, ana['d'], ana['n'])\n",
    "c_ana"
   ]
  },
  {
   "cell_type": "code",
   "execution_count": 321,
   "metadata": {},
   "outputs": [
    {
     "data": {
      "text/plain": [
       "3183998536260773381802859317839949492208698823"
      ]
     },
     "execution_count": 321,
     "metadata": {},
     "output_type": "execute_result"
    }
   ],
   "source": [
    "c_ana_auth = rsa_encrypt_decrypt(c_ana, beto['e'], beto['n'])\n",
    "c_ana_auth"
   ]
  },
  {
   "cell_type": "markdown",
   "metadata": {},
   "source": [
    "Para recurperar a mensagem e garantir sua autenticidade beto deve decripta-la com sua chave Privada e entao tentar decriptar com a chave pulica de Ana, se o processo for bem sucedido, entao significa que a mensagem eh autentica de Ana"
   ]
  },
  {
   "cell_type": "code",
   "execution_count": 322,
   "metadata": {},
   "outputs": [
    {
     "data": {
      "text/plain": [
       "44828843197980668851445548372250029310416609519"
      ]
     },
     "execution_count": 322,
     "metadata": {},
     "output_type": "execute_result"
    }
   ],
   "source": [
    "p_ana_beto_auth = rsa_encrypt_decrypt(c_ana_auth, beto['d'], beto['n'])\n",
    "p_ana_beto_auth"
   ]
  },
  {
   "cell_type": "code",
   "execution_count": 323,
   "metadata": {},
   "outputs": [
    {
     "data": {
      "text/plain": [
       "2"
      ]
     },
     "execution_count": 323,
     "metadata": {},
     "output_type": "execute_result"
    }
   ],
   "source": [
    "p_ana_beto = rsa_encrypt_decrypt(p_ana_beto_auth, ana['e'], ana['n'])\n",
    "p_ana_beto"
   ]
  },
  {
   "cell_type": "markdown",
   "metadata": {},
   "source": [
    "Observa-se que Beto recuperou o conteudo da mensagem contendo o valor 2, identico ao desafio que foi enviado para Ana, ou seja, a autenticidade de Ana eh verdadeira"
   ]
  },
  {
   "cell_type": "markdown",
   "metadata": {},
   "source": [
    "## Exercicio 8\n",
    "#### Fatoracao utilizando PARI, QSieve e ECM\n",
    "1) Diferenca de cada metodo, explicada no pdf principal.\n",
    "2) Abaixo segue a fatoracao de n usando cada um dos metodos"
   ]
  },
  {
   "cell_type": "code",
   "execution_count": 353,
   "metadata": {
    "scrolled": true
   },
   "outputs": [
    {
     "data": {
      "text/plain": [
       "72939402863335886860162409435487842329433753831"
      ]
     },
     "execution_count": 353,
     "metadata": {},
     "output_type": "execute_result"
    }
   ],
   "source": [
    "n =  ana['n']\n",
    "n"
   ]
  },
  {
   "cell_type": "code",
   "execution_count": 408,
   "metadata": {},
   "outputs": [
    {
     "name": "stdout",
     "output_type": "stream",
     "text": [
      "CPU times: user 590 ms, sys: 16.5 ms, total: 606 ms\n",
      "Wall time: 607 ms\n"
     ]
    },
    {
     "data": {
      "text/plain": [
       "268796859830643408786989 * 271355115194767022865379"
      ]
     },
     "execution_count": 408,
     "metadata": {},
     "output_type": "execute_result"
    }
   ],
   "source": [
    "time(n.factor())"
   ]
  },
  {
   "cell_type": "code",
   "execution_count": 409,
   "metadata": {},
   "outputs": [
    {
     "name": "stdout",
     "output_type": "stream",
     "text": [
      "CPU times: user 3.02 ms, sys: 13.4 ms, total: 16.4 ms\n",
      "Wall time: 761 ms\n"
     ]
    },
    {
     "data": {
      "text/plain": [
       "268796859830643408786989 * 271355115194767022865379"
      ]
     },
     "execution_count": 409,
     "metadata": {},
     "output_type": "execute_result"
    }
   ],
   "source": [
    "time(n.factor(algorithm=\"qsieve\"))"
   ]
  },
  {
   "cell_type": "code",
   "execution_count": 410,
   "metadata": {},
   "outputs": [
    {
     "name": "stdout",
     "output_type": "stream",
     "text": [
      "CPU times: user 107 ms, sys: 33.7 ms, total: 141 ms\n",
      "Wall time: 8.19 s\n"
     ]
    },
    {
     "data": {
      "text/plain": [
       "268796859830643408786989 * 271355115194767022865379"
      ]
     },
     "execution_count": 410,
     "metadata": {},
     "output_type": "execute_result"
    }
   ],
   "source": [
    "time(n.factor(algorithm=\"ecm\"))"
   ]
  },
  {
   "cell_type": "markdown",
   "metadata": {},
   "source": [
    "3) Calculando novos primos p e q com metade do tamanho do anterior\n",
    "\n",
    "* Tamanho dos novos primos em bits = 78 / 2 = 39"
   ]
  },
  {
   "cell_type": "code",
   "execution_count": 423,
   "metadata": {},
   "outputs": [
    {
     "name": "stdout",
     "output_type": "stream",
     "text": [
      "160742067700142190880643\n",
      "501247683371\n",
      "320683911433\n"
     ]
    }
   ],
   "source": [
    "p2 = get_random_prime(2^(39 -1), 2^39 -1)\n",
    "q2 = get_random_prime(2^(39 -1), 2^39 -1)\n",
    "n2 = p2*q2\n",
    "print(n2)\n",
    "print(q2)\n",
    "print(p2)"
   ]
  },
  {
   "cell_type": "code",
   "execution_count": 424,
   "metadata": {},
   "outputs": [
    {
     "name": "stdout",
     "output_type": "stream",
     "text": [
      "CPU times: user 11.8 ms, sys: 10.5 ms, total: 22.2 ms\n",
      "Wall time: 23.4 ms\n"
     ]
    },
    {
     "data": {
      "text/plain": [
       "320683911433 * 501247683371"
      ]
     },
     "execution_count": 424,
     "metadata": {},
     "output_type": "execute_result"
    }
   ],
   "source": [
    "time(n2.factor())"
   ]
  },
  {
   "cell_type": "code",
   "execution_count": 425,
   "metadata": {},
   "outputs": [
    {
     "ename": "ValueError",
     "evalue": "n must have at least 40 digits",
     "output_type": "error",
     "traceback": [
      "\u001b[0;31m---------------------------------------------------------------------------\u001b[0m",
      "\u001b[0;31mValueError\u001b[0m                                Traceback (most recent call last)",
      "\u001b[0;32m<ipython-input-425-30fd3392c9f2>\u001b[0m in \u001b[0;36m<module>\u001b[0;34m()\u001b[0m\n\u001b[0;32m----> 1\u001b[0;31m \u001b[0mget_ipython\u001b[0m\u001b[0;34m(\u001b[0m\u001b[0;34m)\u001b[0m\u001b[0;34m.\u001b[0m\u001b[0mmagic\u001b[0m\u001b[0;34m(\u001b[0m\u001b[0;34mu'time (n2.factor(algorithm=\"qsieve\"))'\u001b[0m\u001b[0;34m)\u001b[0m\u001b[0;34m\u001b[0m\u001b[0m\n\u001b[0m",
      "\u001b[0;32m/opt/sage/local/lib/python2.7/site-packages/IPython/core/interactiveshell.pyc\u001b[0m in \u001b[0;36mmagic\u001b[0;34m(self, arg_s)\u001b[0m\n\u001b[1;32m   2158\u001b[0m         \u001b[0mmagic_name\u001b[0m\u001b[0;34m,\u001b[0m \u001b[0m_\u001b[0m\u001b[0;34m,\u001b[0m \u001b[0mmagic_arg_s\u001b[0m \u001b[0;34m=\u001b[0m \u001b[0marg_s\u001b[0m\u001b[0;34m.\u001b[0m\u001b[0mpartition\u001b[0m\u001b[0;34m(\u001b[0m\u001b[0;34m' '\u001b[0m\u001b[0;34m)\u001b[0m\u001b[0;34m\u001b[0m\u001b[0m\n\u001b[1;32m   2159\u001b[0m         \u001b[0mmagic_name\u001b[0m \u001b[0;34m=\u001b[0m \u001b[0mmagic_name\u001b[0m\u001b[0;34m.\u001b[0m\u001b[0mlstrip\u001b[0m\u001b[0;34m(\u001b[0m\u001b[0mprefilter\u001b[0m\u001b[0;34m.\u001b[0m\u001b[0mESC_MAGIC\u001b[0m\u001b[0;34m)\u001b[0m\u001b[0;34m\u001b[0m\u001b[0m\n\u001b[0;32m-> 2160\u001b[0;31m         \u001b[0;32mreturn\u001b[0m \u001b[0mself\u001b[0m\u001b[0;34m.\u001b[0m\u001b[0mrun_line_magic\u001b[0m\u001b[0;34m(\u001b[0m\u001b[0mmagic_name\u001b[0m\u001b[0;34m,\u001b[0m \u001b[0mmagic_arg_s\u001b[0m\u001b[0;34m)\u001b[0m\u001b[0;34m\u001b[0m\u001b[0m\n\u001b[0m\u001b[1;32m   2161\u001b[0m \u001b[0;34m\u001b[0m\u001b[0m\n\u001b[1;32m   2162\u001b[0m     \u001b[0;31m#-------------------------------------------------------------------------\u001b[0m\u001b[0;34m\u001b[0m\u001b[0;34m\u001b[0m\u001b[0m\n",
      "\u001b[0;32m/opt/sage/local/lib/python2.7/site-packages/IPython/core/interactiveshell.pyc\u001b[0m in \u001b[0;36mrun_line_magic\u001b[0;34m(self, magic_name, line)\u001b[0m\n\u001b[1;32m   2079\u001b[0m                 \u001b[0mkwargs\u001b[0m\u001b[0;34m[\u001b[0m\u001b[0;34m'local_ns'\u001b[0m\u001b[0;34m]\u001b[0m \u001b[0;34m=\u001b[0m \u001b[0msys\u001b[0m\u001b[0;34m.\u001b[0m\u001b[0m_getframe\u001b[0m\u001b[0;34m(\u001b[0m\u001b[0mstack_depth\u001b[0m\u001b[0;34m)\u001b[0m\u001b[0;34m.\u001b[0m\u001b[0mf_locals\u001b[0m\u001b[0;34m\u001b[0m\u001b[0m\n\u001b[1;32m   2080\u001b[0m             \u001b[0;32mwith\u001b[0m \u001b[0mself\u001b[0m\u001b[0;34m.\u001b[0m\u001b[0mbuiltin_trap\u001b[0m\u001b[0;34m:\u001b[0m\u001b[0;34m\u001b[0m\u001b[0m\n\u001b[0;32m-> 2081\u001b[0;31m                 \u001b[0mresult\u001b[0m \u001b[0;34m=\u001b[0m \u001b[0mfn\u001b[0m\u001b[0;34m(\u001b[0m\u001b[0;34m*\u001b[0m\u001b[0margs\u001b[0m\u001b[0;34m,\u001b[0m\u001b[0;34m**\u001b[0m\u001b[0mkwargs\u001b[0m\u001b[0;34m)\u001b[0m\u001b[0;34m\u001b[0m\u001b[0m\n\u001b[0m\u001b[1;32m   2082\u001b[0m             \u001b[0;32mreturn\u001b[0m \u001b[0mresult\u001b[0m\u001b[0;34m\u001b[0m\u001b[0m\n\u001b[1;32m   2083\u001b[0m \u001b[0;34m\u001b[0m\u001b[0m\n",
      "\u001b[0;32m<decorator-gen-60>\u001b[0m in \u001b[0;36mtime\u001b[0;34m(self, line, cell, local_ns)\u001b[0m\n",
      "\u001b[0;32m/opt/sage/local/lib/python2.7/site-packages/IPython/core/magic.pyc\u001b[0m in \u001b[0;36m<lambda>\u001b[0;34m(f, *a, **k)\u001b[0m\n\u001b[1;32m    186\u001b[0m     \u001b[0;31m# but it's overkill for just that one bit of state.\u001b[0m\u001b[0;34m\u001b[0m\u001b[0;34m\u001b[0m\u001b[0m\n\u001b[1;32m    187\u001b[0m     \u001b[0;32mdef\u001b[0m \u001b[0mmagic_deco\u001b[0m\u001b[0;34m(\u001b[0m\u001b[0marg\u001b[0m\u001b[0;34m)\u001b[0m\u001b[0;34m:\u001b[0m\u001b[0;34m\u001b[0m\u001b[0m\n\u001b[0;32m--> 188\u001b[0;31m         \u001b[0mcall\u001b[0m \u001b[0;34m=\u001b[0m \u001b[0;32mlambda\u001b[0m \u001b[0mf\u001b[0m\u001b[0;34m,\u001b[0m \u001b[0;34m*\u001b[0m\u001b[0ma\u001b[0m\u001b[0;34m,\u001b[0m \u001b[0;34m**\u001b[0m\u001b[0mk\u001b[0m\u001b[0;34m:\u001b[0m \u001b[0mf\u001b[0m\u001b[0;34m(\u001b[0m\u001b[0;34m*\u001b[0m\u001b[0ma\u001b[0m\u001b[0;34m,\u001b[0m \u001b[0;34m**\u001b[0m\u001b[0mk\u001b[0m\u001b[0;34m)\u001b[0m\u001b[0;34m\u001b[0m\u001b[0m\n\u001b[0m\u001b[1;32m    189\u001b[0m \u001b[0;34m\u001b[0m\u001b[0m\n\u001b[1;32m    190\u001b[0m         \u001b[0;32mif\u001b[0m \u001b[0mcallable\u001b[0m\u001b[0;34m(\u001b[0m\u001b[0marg\u001b[0m\u001b[0;34m)\u001b[0m\u001b[0;34m:\u001b[0m\u001b[0;34m\u001b[0m\u001b[0m\n",
      "\u001b[0;32m/opt/sage/local/lib/python2.7/site-packages/IPython/core/magics/execution.pyc\u001b[0m in \u001b[0;36mtime\u001b[0;34m(self, line, cell, local_ns)\u001b[0m\n\u001b[1;32m   1187\u001b[0m         \u001b[0;32mif\u001b[0m \u001b[0mmode\u001b[0m\u001b[0;34m==\u001b[0m\u001b[0;34m'eval'\u001b[0m\u001b[0;34m:\u001b[0m\u001b[0;34m\u001b[0m\u001b[0m\n\u001b[1;32m   1188\u001b[0m             \u001b[0mst\u001b[0m \u001b[0;34m=\u001b[0m \u001b[0mclock2\u001b[0m\u001b[0;34m(\u001b[0m\u001b[0;34m)\u001b[0m\u001b[0;34m\u001b[0m\u001b[0m\n\u001b[0;32m-> 1189\u001b[0;31m             \u001b[0mout\u001b[0m \u001b[0;34m=\u001b[0m \u001b[0meval\u001b[0m\u001b[0;34m(\u001b[0m\u001b[0mcode\u001b[0m\u001b[0;34m,\u001b[0m \u001b[0mglob\u001b[0m\u001b[0;34m,\u001b[0m \u001b[0mlocal_ns\u001b[0m\u001b[0;34m)\u001b[0m\u001b[0;34m\u001b[0m\u001b[0m\n\u001b[0m\u001b[1;32m   1190\u001b[0m             \u001b[0mend\u001b[0m \u001b[0;34m=\u001b[0m \u001b[0mclock2\u001b[0m\u001b[0;34m(\u001b[0m\u001b[0;34m)\u001b[0m\u001b[0;34m\u001b[0m\u001b[0m\n\u001b[1;32m   1191\u001b[0m         \u001b[0;32melse\u001b[0m\u001b[0;34m:\u001b[0m\u001b[0;34m\u001b[0m\u001b[0m\n",
      "\u001b[0;32m<timed eval>\u001b[0m in \u001b[0;36m<module>\u001b[0;34m()\u001b[0m\n",
      "\u001b[0;32m/opt/sage/local/lib/python2.7/site-packages/sage/rings/integer.pyx\u001b[0m in \u001b[0;36msage.rings.integer.Integer.factor (build/cythonized/sage/rings/integer.c:25962)\u001b[0;34m()\u001b[0m\n\u001b[1;32m   3906\u001b[0m             \u001b[0mwarn\u001b[0m\u001b[0;34m(\u001b[0m\u001b[0mmessage\u001b[0m\u001b[0;34m,\u001b[0m \u001b[0mRuntimeWarning\u001b[0m\u001b[0;34m,\u001b[0m \u001b[0mstacklevel\u001b[0m\u001b[0;34m=\u001b[0m\u001b[0;36m5\u001b[0m\u001b[0;34m)\u001b[0m\u001b[0;34m\u001b[0m\u001b[0m\n\u001b[1;32m   3907\u001b[0m             \u001b[0;32mfrom\u001b[0m \u001b[0msage\u001b[0m\u001b[0;34m.\u001b[0m\u001b[0minterfaces\u001b[0m\u001b[0;34m.\u001b[0m\u001b[0mqsieve\u001b[0m \u001b[0;32mimport\u001b[0m \u001b[0mqsieve\u001b[0m\u001b[0;34m\u001b[0m\u001b[0m\n\u001b[0;32m-> 3908\u001b[0;31m             \u001b[0mres\u001b[0m \u001b[0;34m=\u001b[0m \u001b[0;34m[\u001b[0m\u001b[0;34m(\u001b[0m\u001b[0mp\u001b[0m\u001b[0;34m,\u001b[0m \u001b[0;36m1\u001b[0m\u001b[0;34m)\u001b[0m \u001b[0;32mfor\u001b[0m \u001b[0mp\u001b[0m \u001b[0;32min\u001b[0m \u001b[0mqsieve\u001b[0m\u001b[0;34m(\u001b[0m\u001b[0mn\u001b[0m\u001b[0;34m)\u001b[0m\u001b[0;34m[\u001b[0m\u001b[0;36m0\u001b[0m\u001b[0;34m]\u001b[0m\u001b[0;34m]\u001b[0m\u001b[0;34m\u001b[0m\u001b[0m\n\u001b[0m\u001b[1;32m   3909\u001b[0m             \u001b[0mF\u001b[0m \u001b[0;34m=\u001b[0m \u001b[0mIntegerFactorization\u001b[0m\u001b[0;34m(\u001b[0m\u001b[0mres\u001b[0m\u001b[0;34m,\u001b[0m \u001b[0munit\u001b[0m\u001b[0;34m)\u001b[0m\u001b[0;34m\u001b[0m\u001b[0m\n\u001b[1;32m   3910\u001b[0m             \u001b[0;32mreturn\u001b[0m \u001b[0mF\u001b[0m\u001b[0;34m\u001b[0m\u001b[0m\n",
      "\u001b[0;32m/opt/sage/local/lib/python2.7/site-packages/sage/interfaces/qsieve.pyc\u001b[0m in \u001b[0;36mqsieve\u001b[0;34m(n, block, time, verbose)\u001b[0m\n\u001b[1;32m     68\u001b[0m     \u001b[0mn\u001b[0m \u001b[0;34m=\u001b[0m \u001b[0mZ\u001b[0m\u001b[0;34m(\u001b[0m\u001b[0mn\u001b[0m\u001b[0;34m)\u001b[0m\u001b[0;34m\u001b[0m\u001b[0m\n\u001b[1;32m     69\u001b[0m     \u001b[0;32mif\u001b[0m \u001b[0mlen\u001b[0m\u001b[0;34m(\u001b[0m\u001b[0mstr\u001b[0m\u001b[0;34m(\u001b[0m\u001b[0mn\u001b[0m\u001b[0;34m)\u001b[0m\u001b[0;34m)\u001b[0m \u001b[0;34m<\u001b[0m \u001b[0;36m40\u001b[0m\u001b[0;34m:\u001b[0m\u001b[0;34m\u001b[0m\u001b[0m\n\u001b[0;32m---> 70\u001b[0;31m         \u001b[0;32mraise\u001b[0m \u001b[0mValueError\u001b[0m\u001b[0;34m(\u001b[0m\u001b[0;34m\"n must have at least 40 digits\"\u001b[0m\u001b[0;34m)\u001b[0m\u001b[0;34m\u001b[0m\u001b[0m\n\u001b[0m\u001b[1;32m     71\u001b[0m     \u001b[0;32mif\u001b[0m \u001b[0mblock\u001b[0m\u001b[0;34m:\u001b[0m\u001b[0;34m\u001b[0m\u001b[0m\n\u001b[1;32m     72\u001b[0m         \u001b[0;32mreturn\u001b[0m \u001b[0mqsieve_block\u001b[0m\u001b[0;34m(\u001b[0m\u001b[0mn\u001b[0m\u001b[0;34m,\u001b[0m \u001b[0mtime\u001b[0m\u001b[0;34m,\u001b[0m \u001b[0mverbose\u001b[0m\u001b[0;34m)\u001b[0m\u001b[0;34m\u001b[0m\u001b[0m\n",
      "\u001b[0;31mValueError\u001b[0m: n must have at least 40 digits"
     ]
    }
   ],
   "source": [
    "time(n2.factor(algorithm=\"qsieve\"))"
   ]
  },
  {
   "cell_type": "code",
   "execution_count": 426,
   "metadata": {},
   "outputs": [
    {
     "name": "stdout",
     "output_type": "stream",
     "text": [
      "CPU times: user 4.17 ms, sys: 16.2 ms, total: 20.4 ms\n",
      "Wall time: 35.8 ms\n"
     ]
    },
    {
     "data": {
      "text/plain": [
       "320683911433 * 501247683371"
      ]
     },
     "execution_count": 426,
     "metadata": {},
     "output_type": "execute_result"
    }
   ],
   "source": [
    "time(n2.factor(algorithm=\"ecm\"))"
   ]
  },
  {
   "cell_type": "markdown",
   "metadata": {},
   "source": [
    "4) Reduzindo o tamanho em bits de p e q em 1/4 do original, ou seja, 78 / 4 = 19.5, neste caso, o arredondamento sera considerado para cima, portanto, os primos agora terao 20 bits cada"
   ]
  },
  {
   "cell_type": "code",
   "execution_count": 415,
   "metadata": {},
   "outputs": [
    {
     "name": "stdout",
     "output_type": "stream",
     "text": [
      "479263354393\n",
      "603607\n",
      "793999\n"
     ]
    }
   ],
   "source": [
    "p3 = get_random_prime(2^(20 -1), 2^20 -1)\n",
    "q3 = get_random_prime(2^(20 -1), 2^20 -1)\n",
    "n3 = p3*q3\n",
    "print(n3)\n",
    "print(q3)\n",
    "print(p3)"
   ]
  },
  {
   "cell_type": "code",
   "execution_count": 419,
   "metadata": {},
   "outputs": [
    {
     "name": "stdout",
     "output_type": "stream",
     "text": [
      "CPU times: user 133 µs, sys: 0 ns, total: 133 µs\n",
      "Wall time: 137 µs\n"
     ]
    },
    {
     "data": {
      "text/plain": [
       "603607 * 793999"
      ]
     },
     "execution_count": 419,
     "metadata": {},
     "output_type": "execute_result"
    }
   ],
   "source": [
    "time(n3.factor())"
   ]
  },
  {
   "cell_type": "code",
   "execution_count": 420,
   "metadata": {},
   "outputs": [
    {
     "name": "stdout",
     "output_type": "stream",
     "text": [
      "CPU times: user 93 µs, sys: 11 µs, total: 104 µs\n",
      "Wall time: 108 µs\n"
     ]
    },
    {
     "data": {
      "text/plain": [
       "603607 * 793999"
      ]
     },
     "execution_count": 420,
     "metadata": {},
     "output_type": "execute_result"
    }
   ],
   "source": [
    "time(n3.factor(algorithm=\"qsieve\"))"
   ]
  },
  {
   "cell_type": "code",
   "execution_count": 421,
   "metadata": {},
   "outputs": [
    {
     "name": "stdout",
     "output_type": "stream",
     "text": [
      "CPU times: user 149 µs, sys: 0 ns, total: 149 µs\n",
      "Wall time: 148 µs\n"
     ]
    },
    {
     "data": {
      "text/plain": [
       "603607 * 793999"
      ]
     },
     "execution_count": 421,
     "metadata": {},
     "output_type": "execute_result"
    }
   ],
   "source": [
    "time(n3.factor(algorithm=\"ecm\"))"
   ]
  },
  {
   "cell_type": "code",
   "execution_count": 422,
   "metadata": {},
   "outputs": [
    {
     "data": {
      "text/plain": [
       "True"
      ]
     },
     "execution_count": 422,
     "metadata": {},
     "output_type": "execute_result"
    }
   ],
   "source": [
    "is_prime(65537)"
   ]
  },
  {
   "cell_type": "markdown",
   "metadata": {},
   "source": [
    "#### Item 5 do exercicio 8\n",
    "Para n com 156 bits temos\n",
    "- PARI:   607 ms\n",
    "- QSieve: 761 ms\n",
    "- ECM:    8.19 s\n",
    "\n",
    "Para n com 78 bits temos\n",
    "- PARI:   23.4 ms\n",
    "- QSieve: Error\n",
    "- ECM:    35.8 ms\n",
    "\n",
    "Para n com 40 bits (vide arredondamento para tamamho dos primos) temos\n",
    "- PARI:   137 µs\n",
    "- QSieve: 108 µs\n",
    "- ECM:    148 µs\n",
    "\n",
    "Deste modo, podemos determinar que o algoritmo padrao do PARI eh o mais eficiente para numeros com 156 bits e para 78 bits\n",
    "\n",
    "Dado a caracteristica do algoritmo QSieve de ser mais adequado para numeros com mais de 100 digitos, pode-ser deduzir que a quantidade de 156 bits nao eh suficiente ainda para que se observe o ganho de desempenho do QSieve, alem disso, provavelmente devido a sua implementacao, o metodo gerou Erro ao tentar fatorar o numero n com 78 bits mas nao errou no calculo para 40 bits, e ainda por cima se demonstrou o mais performatico. Ou seja, podemos inferir que o algoritmo QSieve precisa de numeros com muito mais que 156 bits para destacar sua performance com relacao aos demais, mas o desempenho para o n de 40 bits revela que a implementacao provavelmente conta com algum caso especifico para numeros pequenos tambem.\n",
    "\n",
    "O algotimo de curva eliptca, ECM, demonstrou ser o mais lento para todas as ocasioes, tendo seu resultado mais proximo ao dos demais para o n com 40 bits.\n",
    "\n",
    "Esta comparacao permite determinar que, para casos gerais, o algoritmo padrao do PARI eh extremamente adequado, ja que apresenta uma variabilidade baixa em sua performance, portanto sua complexidade nao aumenta de maneira direta ou exponencial, o que pode contribuir para um ataque de fatoracao com mais eficiencia.\n"
   ]
  },
  {
   "cell_type": "code",
   "execution_count": null,
   "metadata": {},
   "outputs": [],
   "source": []
  }
 ],
 "metadata": {
  "kernelspec": {
   "display_name": "SageMath 8.2",
   "language": "",
   "name": "sagemath"
  },
  "language_info": {
   "codemirror_mode": {
    "name": "ipython",
    "version": 2
   },
   "file_extension": ".py",
   "mimetype": "text/x-python",
   "name": "python",
   "nbconvert_exporter": "python",
   "pygments_lexer": "ipython2",
   "version": "2.7.14"
  }
 },
 "nbformat": 4,
 "nbformat_minor": 2
}
